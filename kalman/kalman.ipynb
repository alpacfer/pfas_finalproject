{
 "cells": [
  {
   "cell_type": "markdown",
   "metadata": {},
   "source": [
    "# Paths"
   ]
  },
  {
   "cell_type": "code",
   "execution_count": 5,
   "metadata": {},
   "outputs": [],
   "source": [
    "# Specify paths\n",
    "images_folder = r'C:\\Users\\User\\Documents\\dataset\\pfas\\34759_final_project_rect\\seq_02\\image_02\\data'\n",
    "labels_file = r'C:\\Users\\User\\Documents\\dataset\\pfas\\34759_final_project_rect\\seq_02\\labels.txt'"
   ]
  },
  {
   "cell_type": "markdown",
   "metadata": {},
   "source": [
    "# Functions"
   ]
  },
  {
   "cell_type": "code",
   "execution_count": 6,
   "metadata": {},
   "outputs": [],
   "source": [
    "def get_frame_data(frame_id, labels_file):\n",
    "    \"\"\"\n",
    "    Extracts and returns track_ids and bounding boxes for a given frame from the labels file.\n",
    "\n",
    "    Parameters:\n",
    "    frame_id (int): The ID of the frame to extract information for.\n",
    "    labels_file (str): Path to the labels.txt file containing bounding box information.\n",
    "\n",
    "    Returns:\n",
    "    tuple: A tuple containing:\n",
    "        - frame_ids (list): List of track_ids present in the frame.\n",
    "        - frame_locations (dict): Dictionary with track_id as key and bounding box [x1, y1, x2, y2] as value.\n",
    "    \"\"\"\n",
    "    # Load labels from the file\n",
    "    with open(labels_file, 'r') as file:\n",
    "        labels = file.readlines()\n",
    "\n",
    "    # Filter labels for the specified frame_id\n",
    "    frame_ids = []\n",
    "    frame_locations = {}\n",
    "\n",
    "    for line in labels:\n",
    "        columns = line.strip().split()\n",
    "        if int(columns[0]) == frame_id:\n",
    "            track_id_raw = columns[1]\n",
    "            try:\n",
    "                track_id = int(track_id_raw)\n",
    "            except ValueError:\n",
    "                track_id = track_id_raw  # Keep as string if it cannot be converted\n",
    "\n",
    "            x1, y1, x2, y2 = map(float, columns[6:10])  # Extract top-left and bottom-right corners\n",
    "\n",
    "            # Append the track_id and bounding box information\n",
    "            frame_ids.append(track_id)\n",
    "            frame_locations[track_id] = [x1, y1, x2, y2]\n",
    "\n",
    "    return frame_ids, frame_locations\n"
   ]
  },
  {
   "cell_type": "code",
   "execution_count": 9,
   "metadata": {},
   "outputs": [
    {
     "name": "stdout",
     "output_type": "stream",
     "text": [
      "Frame 0:\n",
      "frame_ids: [0, 1, 2, 3, 4, 5, 6, 7, 22, 23, 24, 25, 26]\n",
      "frame_locations: {0: [1096.141118, 185.415106, 1223.0, 236.828782], 1: [1031.968582, 183.785008, 1157.636703, 232.560471], 2: [952.605364, 181.930859, 1068.611605, 234.494197], 3: [602.556774, 172.407984, 636.777103, 202.727588], 4: [324.388946, 170.363766, 423.513983, 316.413307], 5: [733.172819, 157.632371, 783.506153, 281.860744], 6: [782.480296, 166.494327, 817.146964, 275.918322], 7: [436.728458, 161.218615, 476.395123, 254.699107], 22: [275.187184, 156.595011, 307.187184, 230.127117], 23: [314.211664, 161.032118, 340.211663, 227.50554], 24: [209.727761, 154.940942, 237.727761, 220.178333], 25: [244.404816, 154.153304, 265.071484, 218.579195], 26: [271.163454, 159.400648, 298.926237, 218.175444]}\n"
     ]
    }
   ],
   "source": [
    "# Test get_frame_data function\n",
    "frame_id = 0\n",
    "frame_ids, frame_locations = get_frame_data(frame_id, labels_file)\n",
    "print(f'Frame {frame_id}:')\n",
    "print(f'frame_ids: {frame_ids}')\n",
    "print(f'frame_locations: {frame_locations}')"
   ]
  },
  {
   "cell_type": "code",
   "execution_count": null,
   "metadata": {},
   "outputs": [],
   "source": [
    "def track_states(current_frame_ids, previous_frame_ids):\n",
    "    \"\"\"\n",
    "    Classifies object states into missing, tracked, and new based on IDs in the current and previous frames.\n",
    "\n",
    "    Parameters:\n",
    "    current_frame_ids (list): List of track_ids detected in the current frame.\n",
    "    previous_frame_ids (list): List of track_ids detected in the previous frame.\n",
    "\n",
    "    Returns:\n",
    "    tuple: A tuple containing:\n",
    "        - missing_ids (list): IDs present in previous_frame_ids but not in current_frame_ids.\n",
    "        - tracked_ids (list): IDs present in both current_frame_ids and previous_frame_ids.\n",
    "        - new_ids (list): IDs present in current_frame_ids but not in previous_frame_ids.\n",
    "    \"\"\"\n",
    "    # Determine missing IDs (present in previous_frame_ids but not in current_frame_ids)\n",
    "    missing_ids = [id_ for id_ in previous_frame_ids if id_ not in current_frame_ids]\n",
    "\n",
    "    # Determine tracked IDs (present in both current_frame_ids and previous_frame_ids)\n",
    "    tracked_ids = [id_ for id_ in current_frame_ids if id_ in previous_frame_ids]\n",
    "\n",
    "    # Determine new IDs (present in current_frame_ids but not in previous_frame_ids)\n",
    "    new_ids = [id_ for id_ in current_frame_ids if id_ not in previous_frame_ids]\n",
    "\n",
    "    return missing_ids, tracked_ids, new_ids"
   ]
  },
  {
   "cell_type": "code",
   "execution_count": 11,
   "metadata": {},
   "outputs": [
    {
     "name": "stdout",
     "output_type": "stream",
     "text": [
      "Frame 1:\n",
      "missing_ids: []\n",
      "tracked_ids: [0, 1, 2, 3, 4, 5, 6, 7, 22, 23, 24, 25, 26]\n",
      "new_ids: []\n"
     ]
    }
   ],
   "source": [
    "# Test track_states function\n",
    "frame_id = 0\n",
    "previous_frame_ids, _ = get_frame_data(frame_id, labels_file)\n",
    "\n",
    "frame_id = 1\n",
    "current_frame_ids, _ = get_frame_data(frame_id, labels_file)\n",
    "\n",
    "missing_ids, tracked_ids, new_ids = track_states(current_frame_ids, previous_frame_ids)\n",
    "\n",
    "# Print the results\n",
    "print(f'Frame {frame_id}:')\n",
    "print(f'missing_ids: {missing_ids}')\n",
    "print(f'tracked_ids: {tracked_ids}')\n",
    "print(f'new_ids: {new_ids}')"
   ]
  },
  {
   "cell_type": "markdown",
   "metadata": {},
   "source": [
    "# The filter"
   ]
  },
  {
   "cell_type": "code",
   "execution_count": 12,
   "metadata": {},
   "outputs": [],
   "source": [
    "# Step 1: Variable Initialization\n",
    "missing_ids = []                     # IDs of objects missing in the current frame\n",
    "tracked_ids = []                     # IDs of objects being tracked\n",
    "new_ids = []                         # IDs of new detections in the current frame\n",
    "locations_dict = {}                  # Bounding boxes for each track_id {track_id: [x1, y1, x2, y2]}\n",
    "previous_frame_ids = []              # IDs detected in the previous frame\n",
    "previous_frame_locations = {}        # Bounding boxes from the previous frame\n",
    "frame_counter = 1                    # Counter for the current frame\n",
    "reassociation_map = {}               # Maps new_ids to missing_ids\n",
    "kalman_filters = {}                  # Kalman filter instances for each track_id\n",
    "missing_counts = {}                  # Counts how long each missing_id has been missing\n",
    "\n",
    "# Constants\n",
    "max_distance = 50                    # Maximum distance for matching (tunable)\n",
    "max_missing_frames = 30               # Maximum frames an object can be missing"
   ]
  },
  {
   "cell_type": "code",
   "execution_count": 15,
   "metadata": {},
   "outputs": [
    {
     "name": "stdout",
     "output_type": "stream",
     "text": [
      "Frame Counter: 1\n",
      "Current Frame IDs: [0, 1, 2, 3, 4, 5, 6, 7, 22, 23, 24, 25, 26]\n",
      "Current Frame Locations: {0: [1096.127247, 185.40352, 1223.0, 236.816016], 1: [1031.972644, 183.786106, 1157.631279, 232.561457], 2: [952.60759, 181.929214, 1068.612769, 234.492229], 3: [602.556357, 172.409683, 636.775583, 202.729325], 4: [302.69041, 170.414513, 411.413539, 325.511953], 5: [740.540847, 157.261852, 793.723504, 282.769239], 6: [786.093082, 166.840239, 827.77389, 277.196724], 7: [442.839462, 161.030879, 485.71239, 255.206338], 22: [276.028463, 156.615028, 307.06085, 230.650286], 23: [312.702509, 161.319478, 340.576901, 228.23184], 24: [210.263112, 154.571909, 238.381584, 220.247145], 25: [243.428067, 154.253899, 263.703316, 219.091944], 26: [272.150418, 159.366907, 299.66969, 218.464906]}\n",
      "Previous Frame IDs: [0, 1, 2, 3, 4, 5, 6, 7, 22, 23, 24, 25, 26]\n",
      "Previous Frame Locations: {0: [1096.141118, 185.415106, 1223.0, 236.828782], 1: [1031.968582, 183.785008, 1157.636703, 232.560471], 2: [952.605364, 181.930859, 1068.611605, 234.494197], 3: [602.556774, 172.407984, 636.777103, 202.727588], 4: [324.388946, 170.363766, 423.513983, 316.413307], 5: [733.172819, 157.632371, 783.506153, 281.860744], 6: [782.480296, 166.494327, 817.146964, 275.918322], 7: [436.728458, 161.218615, 476.395123, 254.699107], 22: [275.187184, 156.595011, 307.187184, 230.127117], 23: [314.211664, 161.032118, 340.211663, 227.50554], 24: [209.727761, 154.940942, 237.727761, 220.178333], 25: [244.404816, 154.153304, 265.071484, 218.579195], 26: [271.163454, 159.400648, 298.926237, 218.175444]}\n"
     ]
    }
   ],
   "source": [
    "# Step 2: Retrieve Frame Data\n",
    "\n",
    "if frame_counter == 1:\n",
    "    # Retrieve data for frame 1 (current frame)\n",
    "    current_frame_ids, current_frame_locations = get_frame_data(frame_counter, labels_file)\n",
    "    # Retrieve data for frame 0 (previous frame)\n",
    "    previous_frame_ids, previous_frame_locations = get_frame_data(0, labels_file)\n",
    "else:\n",
    "    # Retrieve data for the current frame\n",
    "    current_frame_ids, current_frame_locations = get_frame_data(frame_counter, labels_file)\n",
    "    # Use data from the previous iteration for comparison\n",
    "    previous_frame_ids = previous_frame_ids.copy()\n",
    "    previous_frame_locations = previous_frame_locations.copy()\n",
    "\n",
    "# Debugging output (optional)\n",
    "print(\"Frame Counter:\", frame_counter)\n",
    "print(\"Current Frame IDs:\", current_frame_ids)\n",
    "print(\"Current Frame Locations:\", current_frame_locations)\n",
    "print(\"Previous Frame IDs:\", previous_frame_ids)\n",
    "print(\"Previous Frame Locations:\", previous_frame_locations)\n"
   ]
  },
  {
   "cell_type": "code",
   "execution_count": 19,
   "metadata": {},
   "outputs": [],
   "source": [
    "# Fake data for testing\n",
    "current_frame_ids = [1, 2, 3]\n",
    "current_frame_locations = {1: [10, 10, 20, 20], 2: [30, 30, 40, 40], 3: [50, 50, 60, 60]}\n",
    "\n",
    "previous_frame_ids = [1, 2, 4]\n",
    "previous_frame_locations = {1: [10, 10, 20, 20], 2: [30, 30, 40, 40], 4: [70, 70, 80, 80]}"
   ]
  },
  {
   "cell_type": "code",
   "execution_count": 20,
   "metadata": {},
   "outputs": [
    {
     "name": "stdout",
     "output_type": "stream",
     "text": [
      "Missing IDs: [4]\n",
      "Tracked IDs: [1, 2]\n",
      "New IDs: [3]\n"
     ]
    }
   ],
   "source": [
    "# Step 3: Determine States\n",
    "missing_ids, tracked_ids, new_ids = track_states(current_frame_ids, previous_frame_ids)\n",
    "\n",
    "# Debugging output (optional)\n",
    "print(\"Missing IDs:\", missing_ids)\n",
    "print(\"Tracked IDs:\", tracked_ids)\n",
    "print(\"New IDs:\", new_ids)"
   ]
  },
  {
   "cell_type": "code",
   "execution_count": 22,
   "metadata": {},
   "outputs": [],
   "source": [
    "# Step 4: Process Missing IDs\n",
    "def predict_missing_locations(missing_ids, kalman_filters):\n",
    "    \"\"\"\n",
    "    Predicts the locations of missing objects using their Kalman filters.\n",
    "\n",
    "    Parameters:\n",
    "    missing_ids (list): IDs of objects missing in the current frame.\n",
    "    kalman_filters (dict): Dictionary of Kalman filter instances keyed by track_id.\n",
    "\n",
    "    Returns:\n",
    "    dict: Predicted locations of missing objects as {track_id: [x1, y1, x2, y2]}.\n",
    "    \"\"\"\n",
    "    missing_ids_prediction = {}\n",
    "\n",
    "    for missing_id in missing_ids:\n",
    "        if missing_id in kalman_filters:\n",
    "            # Predict the next state using the Kalman filter\n",
    "            kalman_filters[missing_id].predict()\n",
    "            # Retrieve the predicted location\n",
    "            predicted_location = kalman_filters[missing_id].get_predicted_location()\n",
    "            # Store the prediction\n",
    "            missing_ids_prediction[missing_id] = predicted_location\n",
    "        else:\n",
    "            print(f\"Warning: No Kalman filter for missing_id {missing_id}\")\n",
    "\n",
    "    return missing_ids_prediction"
   ]
  },
  {
   "cell_type": "code",
   "execution_count": 23,
   "metadata": {},
   "outputs": [
    {
     "name": "stdout",
     "output_type": "stream",
     "text": [
      "Warning: No Kalman filter for missing_id 4\n",
      "Predicted locations for Missing IDs: {}\n"
     ]
    }
   ],
   "source": [
    "# Step 4: Predict locations for missing IDs\n",
    "missing_ids_prediction = predict_missing_locations(missing_ids, kalman_filters)\n",
    "\n",
    "# Debugging output (optional)\n",
    "print(\"Predicted locations for Missing IDs:\", missing_ids_prediction)\n"
   ]
  }
 ],
 "metadata": {
  "kernelspec": {
   "display_name": "pfas",
   "language": "python",
   "name": "python3"
  },
  "language_info": {
   "codemirror_mode": {
    "name": "ipython",
    "version": 3
   },
   "file_extension": ".py",
   "mimetype": "text/x-python",
   "name": "python",
   "nbconvert_exporter": "python",
   "pygments_lexer": "ipython3",
   "version": "3.12.7"
  }
 },
 "nbformat": 4,
 "nbformat_minor": 2
}
