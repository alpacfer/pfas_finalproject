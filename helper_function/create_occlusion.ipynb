{
 "cells": [
  {
   "cell_type": "code",
   "execution_count": 4,
   "metadata": {},
   "outputs": [],
   "source": [
    "import bbhelp as bb"
   ]
  },
  {
   "cell_type": "markdown",
   "metadata": {},
   "source": [
    "# Create an artificial occlusion in labels.txt"
   ]
  },
  {
   "cell_type": "code",
   "execution_count": 5,
   "metadata": {},
   "outputs": [],
   "source": [
    "# Paths\n",
    "images_folder = r'C:\\Users\\User\\Documents\\dataset\\pfas\\34759_final_project_rect\\seq_02\\image_02\\data'\n",
    "labels_file = r'C:\\Users\\User\\Documents\\dataset\\pfas\\34759_final_project_rect\\seq_02\\labels.txt'"
   ]
  },
  {
   "cell_type": "code",
   "execution_count": 6,
   "metadata": {},
   "outputs": [
    {
     "ename": "AttributeError",
     "evalue": "module 'bbhelp' has no attribute 'create_obstructed_labels_complex'",
     "output_type": "error",
     "traceback": [
      "\u001b[1;31m---------------------------------------------------------------------------\u001b[0m",
      "\u001b[1;31mAttributeError\u001b[0m                            Traceback (most recent call last)",
      "Cell \u001b[1;32mIn[6], line 10\u001b[0m\n\u001b[0;32m      3\u001b[0m obstruction_data \u001b[38;5;241m=\u001b[39m {\n\u001b[0;32m      4\u001b[0m     \u001b[38;5;241m5\u001b[39m: (\u001b[38;5;241m0\u001b[39m, \u001b[38;5;241m20\u001b[39m),  \n\u001b[0;32m      5\u001b[0m     \u001b[38;5;241m6\u001b[39m: (\u001b[38;5;241m0\u001b[39m, \u001b[38;5;241m20\u001b[39m),  \n\u001b[0;32m      6\u001b[0m     \u001b[38;5;241m7\u001b[39m: (\u001b[38;5;241m35\u001b[39m, \u001b[38;5;241m55\u001b[39m),   \n\u001b[0;32m      7\u001b[0m }\n\u001b[0;32m      9\u001b[0m \u001b[38;5;66;03m# Call the function\u001b[39;00m\n\u001b[1;32m---> 10\u001b[0m \u001b[43mbb\u001b[49m\u001b[38;5;241;43m.\u001b[39;49m\u001b[43mcreate_obstructed_labels_complex\u001b[49m(labels_file, obstruction_data)\n",
      "\u001b[1;31mAttributeError\u001b[0m: module 'bbhelp' has no attribute 'create_obstructed_labels_complex'"
     ]
    }
   ],
   "source": [
    "# Define the obstruction data\n",
    "# Format: {track_id: (start_frame, end_frame)}\n",
    "obstruction_data = {\n",
    "    5: (0, 20),  \n",
    "    6: (0, 20),  \n",
    "    7: (35, 55),   \n",
    "}\n",
    "\n",
    "# Call the function\n",
    "bb.create_obstructed_labels_complex(labels_file, obstruction_data)"
   ]
  }
 ],
 "metadata": {
  "kernelspec": {
   "display_name": "Python 3",
   "language": "python",
   "name": "python3"
  },
  "language_info": {
   "codemirror_mode": {
    "name": "ipython",
    "version": 3
   },
   "file_extension": ".py",
   "mimetype": "text/x-python",
   "name": "python",
   "nbconvert_exporter": "python",
   "pygments_lexer": "ipython3",
   "version": "3.11.10"
  }
 },
 "nbformat": 4,
 "nbformat_minor": 2
}
