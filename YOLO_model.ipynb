{
 "cells": [
  {
   "cell_type": "code",
   "execution_count": 1,
   "metadata": {},
   "outputs": [],
   "source": [
    "from ultralytics import YOLO\n",
    "import os\n",
    "from IPython.display import Image, display\n",
    "from IPython import display\n",
    "import torch\n",
    "from collections import defaultdict\n",
    "import numpy as np\n",
    "import cv2"
   ]
  },
  {
   "cell_type": "code",
   "execution_count": 2,
   "metadata": {},
   "outputs": [],
   "source": [
    "model = YOLO('model_checkpoint/weights/best.pt') #This is to load previously trained weights"
    " # model = YOLO('yolov11n.pt') #Use this to load the default YOLO\n"
   ]
  },
  {
   "cell_type": "code",
   "execution_count": 3,
   "metadata": {
    "vscode": {
     "languageId": "ruby"
    }
   },
   "outputs": [],
   "source": [
    "classes = ['Car', 'Cyclist', 'Pedestrian']  # Replace with your actual class names\n",
    "train_path = r'YOLO\\images\\train'  # Updated training dataset path\n",
    "valid_path = r'YOLO\\images\\val'  # Replace with your actual validation dataset path\n",
    "\n",
    "yaml_file = 'names:\\n'\n",
    "yaml_file += '\\n'.join(f'- {c}' for c in classes)\n",
    "yaml_file += f'\\nnc: {len(classes)}'\n",
    "yaml_file += f'\\ntrain: {str(train_path)}\\nval: {str(valid_path)}'\n",
    "with open('kitti.yaml', 'w') as f:\n",
    "    f.write(yaml_file)"
   ]
  },
  {
   "cell_type": "code",
   "execution_count": null,
   "metadata": {
    "vscode": {
     "languageId": "ruby"
    }
   },
   "outputs": [],
   "source": [
    "train_results = model.train(\n",
    "    data='kitti.yaml', # Path to the dataset configuration file,\n",
    "    epochs=300, # Increased epochs\n",
    "    patience=0, # No early stopping\n",
    "    batch=16,# Batch size\n",
    "    imgsz=640,  # Image size\n",
    "    mixup=0.1,# Mixup augmentation factor\n",
    "    project='Perception-yolov11n-kitti', # Project name\n",
    "    name='Training',# Naming the experiment\n",
    "    resume = False,# Resume training from the last checkpoint\n",
    "    device=0)# Use GPU if available, specified as a string"
   ]
  },
  {
   "cell_type": "code",
   "execution_count": null,
   "metadata": {},
   "outputs": [],
   "source": [
    "seq_number = 1\n",
    "seq_dir = r\"34759_final_project_rect\\seq_{seq_number:02d}\\image_02\\data\"\n",
    "\n",
    "image_list = sorted([f for f in os.listdir(seq_dir)])\n",
    "\n",
    "track_history = defaultdict(lambda: [])\n",
    "\n",
    "image_list = sorted([os.path.join(seq_dir, f) for f in os.listdir(seq_dir) if f.endswith(('.png', '.jpg'))])\n",
    "\n",
    "output_file = f\"tracking_results_seq_{seq_number:02d}.txt\"\n",
    "track_history = defaultdict(lambda: [])\n",
    "\n",
    "with open(output_file, \"w\") as f:\n",
    "    for image_path in image_list:\n",
    "        # Get the filename from the path\n",
    "        image_name = os.path.basename(image_path)\n",
    "        \n",
    "        # Perform tracking on the image\n",
    "        results = model.track(image_path, persist=True)\n",
    "        \n",
    "        # Process and save the results\n",
    "        for result in results:\n",
    "            boxes = result.boxes.xywh.cpu().numpy()  # Bounding boxes in [x, y, w, h] format\n",
    "            class_ids = result.boxes.cls.cpu().numpy()  # Class IDs\n",
    "            track_ids = result.boxes.id.cpu().numpy() if result.boxes.id is not None else [None] * len(boxes) # Track IDs\n",
    "            \n",
    "            # Write results for each object\n",
    "            for box, cls_id, track_id in zip(boxes, class_ids, track_ids):\n",
    "                f.write(f\"{image_name},{track_id},{cls_id},{box[0]},{box[1]},{box[2]},{box[3]}\\n\")"
   ]
  }
 ],
 "metadata": {
  "kernelspec": {
   "display_name": "pfas",
   "language": "python",
   "name": "python3"
  },
  "language_info": {
   "codemirror_mode": {
    "name": "ipython",
    "version": 3
   },
   "file_extension": ".py",
   "mimetype": "text/x-python",
   "name": "python",
   "nbconvert_exporter": "python",
   "pygments_lexer": "ipython3",
   "version": "3.10.14"
  }
 },
 "nbformat": 4,
 "nbformat_minor": 2
}
