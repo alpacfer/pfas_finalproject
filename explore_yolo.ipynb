{
 "cells": [
  {
   "cell_type": "code",
<<<<<<< HEAD
   "execution_count": 5,
   "metadata": {},
   "outputs": [],
   "source": [
    "from ultralytics import YOLO\n",
    "import cv2"
   ]
  },
  {
   "cell_type": "code",
   "execution_count": 6,
   "metadata": {},
   "outputs": [],
=======
   "execution_count": 1,
   "metadata": {},
   "outputs": [
    {
     "name": "stdout",
     "output_type": "stream",
     "text": [
      "Creating new Ultralytics Settings v0.0.6 file  \n",
      "View Ultralytics Settings with 'yolo settings' or at 'C:\\Users\\User\\AppData\\Roaming\\Ultralytics\\settings.json'\n",
      "Update Settings with 'yolo settings key=value', i.e. 'yolo settings runs_dir=path/to/dir'. For help see https://docs.ultralytics.com/quickstart/#ultralytics-settings.\n"
     ]
    }
   ],
>>>>>>> 93b6fc08fb545110e303c09e29a3e38400584116
   "source": [
    "from ultralytics import YOLO\n",
    "import cv2"
   ]
  },
  {
   "cell_type": "code",
<<<<<<< HEAD
   "execution_count": 12,
=======
   "execution_count": 2,
>>>>>>> 93b6fc08fb545110e303c09e29a3e38400584116
   "metadata": {},
   "outputs": [
    {
     "name": "stdout",
     "output_type": "stream",
     "text": [
      "\n",
      "0: 224x640 1 person, 4 cars, 54.8ms\n",
      "Speed: 3.5ms preprocess, 54.8ms inference, 2.0ms postprocess per image at shape (1, 3, 224, 640)\n"
     ]
    }
   ],
   "source": [
<<<<<<< HEAD
    "img = cv2.imread('0000000069.png')\n",
=======
    "model = YOLO(\"yolov8n.pt\")\n",
    "img = cv2.imread(r'C:\\Users\\User\\Documents\\dataset\\pfas\\34759_final_project_rect\\seq_02\\image_02\\data\\0000000000.png')"
   ]
  },
  {
   "cell_type": "code",
   "execution_count": 6,
   "metadata": {},
   "outputs": [
    {
     "name": "stdout",
     "output_type": "stream",
     "text": [
      "\n",
      "0: 224x640 6 persons, 1 bicycle, 4 cars, 1 bird, 66.3ms\n",
      "Speed: 2.5ms preprocess, 66.3ms inference, 2.5ms postprocess per image at shape (1, 3, 224, 640)\n"
     ]
    }
   ],
   "source": [
>>>>>>> 93b6fc08fb545110e303c09e29a3e38400584116
    "preds = model(img)"
   ]
  },
  {
   "cell_type": "code",
<<<<<<< HEAD
   "execution_count": 22,
   "metadata": {},
   "outputs": [
    {
     "data": {
      "text/plain": [
       "['__class__',\n",
       " '__delattr__',\n",
       " '__dict__',\n",
       " '__dir__',\n",
       " '__doc__',\n",
       " '__eq__',\n",
       " '__format__',\n",
       " '__ge__',\n",
       " '__getattr__',\n",
       " '__getattribute__',\n",
       " '__getitem__',\n",
       " '__gt__',\n",
       " '__hash__',\n",
       " '__init__',\n",
       " '__init_subclass__',\n",
       " '__le__',\n",
       " '__len__',\n",
       " '__lt__',\n",
       " '__module__',\n",
       " '__ne__',\n",
       " '__new__',\n",
       " '__reduce__',\n",
       " '__reduce_ex__',\n",
       " '__repr__',\n",
       " '__setattr__',\n",
       " '__sizeof__',\n",
       " '__str__',\n",
       " '__subclasshook__',\n",
       " '__weakref__',\n",
       " 'cls',\n",
       " 'conf',\n",
       " 'cpu',\n",
       " 'cuda',\n",
       " 'data',\n",
       " 'id',\n",
       " 'is_track',\n",
       " 'numpy',\n",
       " 'orig_shape',\n",
       " 'shape',\n",
       " 'to',\n",
       " 'xywh',\n",
       " 'xywhn',\n",
       " 'xyxy',\n",
       " 'xyxyn']"
      ]
     },
     "execution_count": 22,
     "metadata": {},
     "output_type": "execute_result"
    }
   ],
   "source": [
    "dir(preds[0].boxes)\n"
=======
   "execution_count": 7,
   "metadata": {},
   "outputs": [
    {
     "name": "stdout",
     "output_type": "stream",
     "text": [
      "tensor([[ 668.9103,  113.9269,  912.1510,  359.3315],\n",
      "        [ 444.2899,  158.5730,  481.1584,  251.9376],\n",
      "        [ 354.3172,  167.9286,  410.6126,  289.4957],\n",
      "        [1058.7363,  186.0281, 1154.4916,  222.2246],\n",
      "        [ 279.7726,  160.5687,  304.8435,  228.4246],\n",
      "        [ 348.0518,  222.8223,  410.1906,  310.2326],\n",
      "        [ 215.4737,  156.0400,  241.3169,  215.8335],\n",
      "        [1019.0807,  189.4139, 1065.0737,  218.7441],\n",
      "        [ 247.7085,  160.4943,  268.3502,  218.9323],\n",
      "        [ 317.0775,  161.5325,  341.8571,  228.4774],\n",
      "        [1146.8286,  189.4090, 1194.7069,  223.0956],\n",
      "        [ 960.7314,  184.8300, 1063.9257,  221.6819]])\n"
     ]
    }
   ],
   "source": [
    "bounding_boxes = preds[0].boxes.xyxy  # Accesses the bounding box coordinates as [x_min, y_min, x_max, y_max]\n",
    "print(bounding_boxes)"
>>>>>>> 93b6fc08fb545110e303c09e29a3e38400584116
   ]
  }
 ],
 "metadata": {
  "kernelspec": {
   "display_name": "pfas",
   "language": "python",
   "name": "python3"
  },
  "language_info": {
   "codemirror_mode": {
    "name": "ipython",
    "version": 3
   },
   "file_extension": ".py",
   "mimetype": "text/x-python",
   "name": "python",
   "nbconvert_exporter": "python",
   "pygments_lexer": "ipython3",
   "version": "3.12.7"
  }
 },
 "nbformat": 4,
 "nbformat_minor": 2
}
